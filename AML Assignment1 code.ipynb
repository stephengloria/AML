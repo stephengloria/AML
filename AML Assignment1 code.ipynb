{
  "nbformat": 4,
  "nbformat_minor": 0,
  "metadata": {
    "colab": {
      "provenance": []
    },
    "kernelspec": {
      "name": "python3",
      "display_name": "Python 3"
    },
    "language_info": {
      "name": "python"
    }
  },
  "cells": [
    {
      "cell_type": "code",
      "execution_count": 2,
      "metadata": {
        "id": "CvMg0oKgblMi"
      },
      "outputs": [],
      "source": [
        "# import modules\n",
        "from sklearn.datasets import make_blobs\n",
        "import numpy as np\n",
        "from sklearn.model_selection import train_test_split\n",
        "from sklearn.neighbors import KNeighborsClassifier\n",
        "from sklearn.metrics import accuracy_score\n",
        "import matplotlib.pyplot as plt\n",
        "\n"
      ]
    },
    {
      "cell_type": "code",
      "source": [
        "\n",
        "\n",
        "# Set up the data\n",
        "centers = [[2, 4], [6, 6], [1, 9]]\n",
        "n_classes = len(centers)\n",
        "data, labels = make_blobs(n_samples=150, centers=np.array(centers), random_state=1)\n"
      ],
      "metadata": {
        "id": "OkYdWQcQeXz8"
      },
      "execution_count": 3,
      "outputs": []
    },
    {
      "cell_type": "code",
      "source": [
        "\n",
        "# Split the data into training and testing sets\n",
        "train_data, test_data, train_labels, test_labels = train_test_split(data, labels, test_size=0.2, random_state=42)\n"
      ],
      "metadata": {
        "id": "TB11il4Ueaj3"
      },
      "execution_count": 4,
      "outputs": []
    },
    {
      "cell_type": "code",
      "source": [
        "\n",
        "# Set up the KNN classifier with k=5\n",
        "knn = KNeighborsClassifier(n_neighbors=5)\n"
      ],
      "metadata": {
        "id": "02Njex7fecz2"
      },
      "execution_count": 5,
      "outputs": []
    },
    {
      "cell_type": "code",
      "source": [
        "\n",
        "# Fit the model to the training data\n",
        "knn.fit(train_data, train_labels)\n"
      ],
      "metadata": {
        "colab": {
          "base_uri": "https://localhost:8080/"
        },
        "id": "hGcSkXP3ef2s",
        "outputId": "4094d537-58c3-4950-8eab-4f6012d09b7e"
      },
      "execution_count": 6,
      "outputs": [
        {
          "output_type": "execute_result",
          "data": {
            "text/plain": [
              "KNeighborsClassifier()"
            ]
          },
          "metadata": {},
          "execution_count": 6
        }
      ]
    },
    {
      "cell_type": "code",
      "source": [
        "\n",
        "# Make predictions on the training data and calculate the training accuracy\n",
        "train_predictions = knn.predict(train_data)\n",
        "train_accuracy = accuracy_score(train_predictions, train_labels)\n",
        "print(\"Training accuracy:\", train_accuracy)\n"
      ],
      "metadata": {
        "colab": {
          "base_uri": "https://localhost:8080/"
        },
        "id": "1bS9eKpxeh53",
        "outputId": "9f22b29a-3b5e-4ea4-dbcd-8f01d3eabc05"
      },
      "execution_count": 7,
      "outputs": [
        {
          "output_type": "stream",
          "name": "stdout",
          "text": [
            "Training accuracy: 1.0\n"
          ]
        }
      ]
    },
    {
      "cell_type": "code",
      "source": [
        "\n",
        "# Make predictions on the testing data and calculate the testing accuracy\n",
        "test_predictions = knn.predict(test_data)\n",
        "test_accuracy = accuracy_score(test_predictions, test_labels)\n",
        "print(\"Testing accuracy:\", test_accuracy)\n"
      ],
      "metadata": {
        "colab": {
          "base_uri": "https://localhost:8080/"
        },
        "id": "E3MA96qBejrI",
        "outputId": "60f948d7-1678-4487-e2e7-4f758d6e71e3"
      },
      "execution_count": 8,
      "outputs": [
        {
          "output_type": "stream",
          "name": "stdout",
          "text": [
            "Testing accuracy: 1.0\n"
          ]
        }
      ]
    },
    {
      "cell_type": "code",
      "source": [
        "\n",
        "# Create a meshgrid of points\n",
        "xx, yy = np.meshgrid(np.linspace(data[:,0].min()-1, data[:,0].max()+1, 100),\n",
        "                     np.linspace(data[:,1].min()-1, data[:,1].max()+1, 100))\n",
        "mesh_data = np.column_stack((xx.ravel(), yy.ravel()))\n"
      ],
      "metadata": {
        "id": "SAfBJT6NelN0"
      },
      "execution_count": 9,
      "outputs": []
    },
    {
      "cell_type": "code",
      "source": [
        "\n",
        "# Make predictions for each point in the meshgrid\n",
        "mesh_predictions = knn.predict(mesh_data)\n",
        "mesh_predictions = mesh_predictions.reshape(xx.shape)\n"
      ],
      "metadata": {
        "id": "AMfsgHgLemnR"
      },
      "execution_count": 10,
      "outputs": []
    },
    {
      "cell_type": "code",
      "source": [
        "\n",
        "# Plot the points with different colors depending on the predicted class\n",
        "plt.contourf(xx, yy, mesh_predictions, cmap=plt.cm.Accent)\n",
        "plt.scatter(data[:,0], data[:,1], c=labels, cmap=plt.cm.Accent)\n",
        "plt.show()\n"
      ],
      "metadata": {
        "colab": {
          "base_uri": "https://localhost:8080/",
          "height": 265
        },
        "id": "Qgerzsx7eoP9",
        "outputId": "891c9822-623e-4e29-92a3-bf12f73a5aa6"
      },
      "execution_count": 11,
      "outputs": [
        {
          "output_type": "display_data",
          "data": {
            "text/plain": [
              "<Figure size 432x288 with 1 Axes>"
            ],
            "image/png": "[encoded data removed]"
          },
          "metadata": {
            "needs_background": "light"
          }
        }
      ]
    }
  ]
}